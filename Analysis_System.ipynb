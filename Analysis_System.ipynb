{
 "cells": [
  {
   "cell_type": "code",
   "execution_count": 22,
   "id": "21ab418b",
   "metadata": {},
   "outputs": [
    {
     "name": "stderr",
     "output_type": "stream",
     "text": [
      "C:\\Users\\user\\AppData\\Local\\Temp\\ipykernel_13880\\1828322101.py:51: DeprecationWarning: ANTIALIAS is deprecated and will be removed in Pillow 10 (2023-07-01). Use LANCZOS or Resampling.LANCZOS instead.\n",
      "  resized_image = original_image.resize((170, 41), Image.ANTIALIAS)\n"
     ]
    },
    {
     "ename": "TclError",
     "evalue": "image \"pyimage14\" doesn't exist",
     "output_type": "error",
     "traceback": [
      "\u001b[1;31m---------------------------------------------------------------------------\u001b[0m",
      "\u001b[1;31mTclError\u001b[0m                                  Traceback (most recent call last)",
      "Cell \u001b[1;32mIn[22], line 55\u001b[0m\n\u001b[0;32m     51\u001b[0m resized_image \u001b[38;5;241m=\u001b[39m original_image\u001b[38;5;241m.\u001b[39mresize((\u001b[38;5;241m170\u001b[39m, \u001b[38;5;241m41\u001b[39m), Image\u001b[38;5;241m.\u001b[39mANTIALIAS)\n\u001b[0;32m     52\u001b[0m photo_image \u001b[38;5;241m=\u001b[39m ImageTk\u001b[38;5;241m.\u001b[39mPhotoImage(resized_image)\n\u001b[1;32m---> 55\u001b[0m image_label \u001b[38;5;241m=\u001b[39m tk\u001b[38;5;241m.\u001b[39mLabel(root, image\u001b[38;5;241m=\u001b[39mphoto_image)\n\u001b[0;32m     56\u001b[0m image_label\u001b[38;5;241m.\u001b[39mplace(x\u001b[38;5;241m=\u001b[39m\u001b[38;5;241m40\u001b[39m, y\u001b[38;5;241m=\u001b[39m\u001b[38;5;241m32\u001b[39m) \n\u001b[0;32m     59\u001b[0m \u001b[38;5;66;03m# 暫定內容區域\u001b[39;00m\n",
      "File \u001b[1;32mE:\\anaconda3\\Lib\\tkinter\\__init__.py:3214\u001b[0m, in \u001b[0;36mLabel.__init__\u001b[1;34m(self, master, cnf, **kw)\u001b[0m\n\u001b[0;32m   3196\u001b[0m \u001b[38;5;28;01mdef\u001b[39;00m \u001b[38;5;21m__init__\u001b[39m(\u001b[38;5;28mself\u001b[39m, master\u001b[38;5;241m=\u001b[39m\u001b[38;5;28;01mNone\u001b[39;00m, cnf\u001b[38;5;241m=\u001b[39m{}, \u001b[38;5;241m*\u001b[39m\u001b[38;5;241m*\u001b[39mkw):\n\u001b[0;32m   3197\u001b[0m \u001b[38;5;250m    \u001b[39m\u001b[38;5;124;03m\"\"\"Construct a label widget with the parent MASTER.\u001b[39;00m\n\u001b[0;32m   3198\u001b[0m \n\u001b[0;32m   3199\u001b[0m \u001b[38;5;124;03m    STANDARD OPTIONS\u001b[39;00m\n\u001b[1;32m   (...)\u001b[0m\n\u001b[0;32m   3212\u001b[0m \n\u001b[0;32m   3213\u001b[0m \u001b[38;5;124;03m    \"\"\"\u001b[39;00m\n\u001b[1;32m-> 3214\u001b[0m     Widget\u001b[38;5;241m.\u001b[39m\u001b[38;5;21m__init__\u001b[39m(\u001b[38;5;28mself\u001b[39m, master, \u001b[38;5;124m'\u001b[39m\u001b[38;5;124mlabel\u001b[39m\u001b[38;5;124m'\u001b[39m, cnf, kw)\n",
      "File \u001b[1;32mE:\\anaconda3\\Lib\\tkinter\\__init__.py:2628\u001b[0m, in \u001b[0;36mBaseWidget.__init__\u001b[1;34m(self, master, widgetName, cnf, kw, extra)\u001b[0m\n\u001b[0;32m   2626\u001b[0m \u001b[38;5;28;01mfor\u001b[39;00m k, v \u001b[38;5;129;01min\u001b[39;00m classes:\n\u001b[0;32m   2627\u001b[0m     \u001b[38;5;28;01mdel\u001b[39;00m cnf[k]\n\u001b[1;32m-> 2628\u001b[0m \u001b[38;5;28mself\u001b[39m\u001b[38;5;241m.\u001b[39mtk\u001b[38;5;241m.\u001b[39mcall(\n\u001b[0;32m   2629\u001b[0m     (widgetName, \u001b[38;5;28mself\u001b[39m\u001b[38;5;241m.\u001b[39m_w) \u001b[38;5;241m+\u001b[39m extra \u001b[38;5;241m+\u001b[39m \u001b[38;5;28mself\u001b[39m\u001b[38;5;241m.\u001b[39m_options(cnf))\n\u001b[0;32m   2630\u001b[0m \u001b[38;5;28;01mfor\u001b[39;00m k, v \u001b[38;5;129;01min\u001b[39;00m classes:\n\u001b[0;32m   2631\u001b[0m     k\u001b[38;5;241m.\u001b[39mconfigure(\u001b[38;5;28mself\u001b[39m, v)\n",
      "\u001b[1;31mTclError\u001b[0m: image \"pyimage14\" doesn't exist"
     ]
    }
   ],
   "source": [
    "import tkinter as tk\n",
    "from tkinter import ttk\n",
    "from tkinter import PhotoImage\n",
    "from PIL import Image, ImageTk\n",
    "\n",
    "# Create the main window\n",
    "root = tk.Tk()\n",
    "root.title(\"ITRI Analysis System\")\n",
    "root.geometry(\"1920x1080\")   #1440, 1280\n",
    "root.configure(bg='#7B7B7B') \n",
    "\n",
    "# 側邊框架\n",
    "sidebar_frame = tk.Frame(root, bg='#20212c', width=256, height=1024)\n",
    "sidebar_frame.pack(side=tk.LEFT, fill=tk.Y)\n",
    "\n",
    "\n",
    "# 側邊欄按鈕\n",
    "sidebar_buttons = [\"Overview\", \"Chart\", \"Transactions\", \"Wallet\", \"News\", \"Mail Box\", \"Setting\", \"Logout\"]\n",
    "\n",
    "button_positions = [40, 104, 168, 236, 296, 360, 888, 952]  # Y-coordinates for buttons\n",
    "\n",
    "for i, button in enumerate(sidebar_buttons):                                              \n",
    "    tk.Button(sidebar_frame, text=button, fg='white', bg='#20212c', relief=tk.FLAT).place(x=40, y=button_positions[i])\n",
    "\n",
    "# 上方框架\n",
    "topbar_frame = tk.Frame(root, bg='#20212c', width=1000, height=50)\n",
    "topbar_frame.pack(side=tk.TOP, fill=tk.X)\n",
    "\n",
    "# 搜尋欄\n",
    "search_bar = tk.Entry(topbar_frame, bg='#404040', fg='white')\n",
    "search_bar.pack(side=tk.LEFT, padx=20, pady=10)\n",
    "\n",
    "# 主要內容框架\n",
    "content_frame = tk.Frame(root, bg='#1e1e2e')\n",
    "content_frame.pack(side=tk.RIGHT, fill=tk.BOTH, expand=True)\n",
    "\n",
    "# 定義功能框架\n",
    "frame_width = 258\n",
    "frame_height = 178\n",
    "frame_color = '#20212c'\n",
    "frame_positions = [(316, 140), (634, 140), (952, 140), (1270, 140), (1590, 140)]\n",
    "\n",
    "for pos in frame_positions:\n",
    "    frame = tk.Frame(root, bg=frame_color, width=frame_width, height=frame_height)\n",
    "    frame.place(x=pos[0], y=pos[1])\n",
    "\n",
    "    \n",
    "# Logo 置放處\n",
    "\n",
    "original_image = Image.open('Logo.png')  # Replace with your image file path\n",
    "resized_image = original_image.resize((170, 41), Image.ANTIALIAS)\n",
    "photo_image = ImageTk.PhotoImage(resized_image)\n",
    "\n",
    "\n",
    "image_label = tk.Label(root, image=photo_image)\n",
    "image_label.place(x=40, y=32) \n",
    "\n",
    "\n",
    "# 暫定內容區域\n",
    "tk.Label(content_frame, text=\"Main Content Area\", bg='#1e1e2e', fg='white').pack(padx=20, pady=20)\n",
    "\n",
    "root.mainloop()\n"
   ]
  },
  {
   "cell_type": "code",
   "execution_count": null,
   "id": "ae517d83",
   "metadata": {},
   "outputs": [],
   "source": []
  }
 ],
 "metadata": {
  "kernelspec": {
   "display_name": "Python 3 (ipykernel)",
   "language": "python",
   "name": "python3"
  },
  "language_info": {
   "codemirror_mode": {
    "name": "ipython",
    "version": 3
   },
   "file_extension": ".py",
   "mimetype": "text/x-python",
   "name": "python",
   "nbconvert_exporter": "python",
   "pygments_lexer": "ipython3",
   "version": "3.11.5"
  }
 },
 "nbformat": 4,
 "nbformat_minor": 5
}
